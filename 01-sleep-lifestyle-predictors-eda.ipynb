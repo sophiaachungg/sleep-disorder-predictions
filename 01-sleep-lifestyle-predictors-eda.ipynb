{
 "cells": [
  {
   "cell_type": "markdown",
   "id": "9dc5f0ce-926a-489b-a32e-c1f67be650dd",
   "metadata": {},
   "source": [
    "dataset from https://www.kaggle.com/datasets/uom190346a/sleep-health-and-lifestyle-dataset?resource=download"
   ]
  },
  {
   "cell_type": "code",
   "execution_count": 1,
   "id": "c209aeb0-a4da-453c-baa7-7a5ec5308b19",
   "metadata": {},
   "outputs": [],
   "source": [
    "# import packages\n",
    "import pandas as pd\n",
    "import numpy as np\n",
    "import seaborn as sns\n",
    "from sklearn.preprocessing import OneHotEncoder\n",
    "from sklearn.preprocessing import StandardScaler\n",
    "from sklearn.preprocessing import MinMaxScaler"
   ]
  },
  {
   "cell_type": "code",
   "execution_count": 3,
   "id": "1d062f56-d8f6-4b8f-aad9-ffd7c09b6a8d",
   "metadata": {},
   "outputs": [
    {
     "data": {
      "text/html": [
       "<div>\n",
       "<style scoped>\n",
       "    .dataframe tbody tr th:only-of-type {\n",
       "        vertical-align: middle;\n",
       "    }\n",
       "\n",
       "    .dataframe tbody tr th {\n",
       "        vertical-align: top;\n",
       "    }\n",
       "\n",
       "    .dataframe thead th {\n",
       "        text-align: right;\n",
       "    }\n",
       "</style>\n",
       "<table border=\"1\" class=\"dataframe\">\n",
       "  <thead>\n",
       "    <tr style=\"text-align: right;\">\n",
       "      <th></th>\n",
       "      <th>Person ID</th>\n",
       "      <th>Gender</th>\n",
       "      <th>Age</th>\n",
       "      <th>Occupation</th>\n",
       "      <th>Sleep Duration</th>\n",
       "      <th>Quality of Sleep</th>\n",
       "      <th>Physical Activity Level</th>\n",
       "      <th>Stress Level</th>\n",
       "      <th>BMI Category</th>\n",
       "      <th>Blood Pressure</th>\n",
       "      <th>Heart Rate</th>\n",
       "      <th>Daily Steps</th>\n",
       "      <th>Sleep Disorder</th>\n",
       "    </tr>\n",
       "  </thead>\n",
       "  <tbody>\n",
       "    <tr>\n",
       "      <th>0</th>\n",
       "      <td>1</td>\n",
       "      <td>Male</td>\n",
       "      <td>27</td>\n",
       "      <td>Software Engineer</td>\n",
       "      <td>6.1</td>\n",
       "      <td>6</td>\n",
       "      <td>42</td>\n",
       "      <td>6</td>\n",
       "      <td>Overweight</td>\n",
       "      <td>126/83</td>\n",
       "      <td>77</td>\n",
       "      <td>4200</td>\n",
       "      <td>NaN</td>\n",
       "    </tr>\n",
       "    <tr>\n",
       "      <th>1</th>\n",
       "      <td>2</td>\n",
       "      <td>Male</td>\n",
       "      <td>28</td>\n",
       "      <td>Doctor</td>\n",
       "      <td>6.2</td>\n",
       "      <td>6</td>\n",
       "      <td>60</td>\n",
       "      <td>8</td>\n",
       "      <td>Normal</td>\n",
       "      <td>125/80</td>\n",
       "      <td>75</td>\n",
       "      <td>10000</td>\n",
       "      <td>NaN</td>\n",
       "    </tr>\n",
       "    <tr>\n",
       "      <th>2</th>\n",
       "      <td>3</td>\n",
       "      <td>Male</td>\n",
       "      <td>28</td>\n",
       "      <td>Doctor</td>\n",
       "      <td>6.2</td>\n",
       "      <td>6</td>\n",
       "      <td>60</td>\n",
       "      <td>8</td>\n",
       "      <td>Normal</td>\n",
       "      <td>125/80</td>\n",
       "      <td>75</td>\n",
       "      <td>10000</td>\n",
       "      <td>NaN</td>\n",
       "    </tr>\n",
       "    <tr>\n",
       "      <th>3</th>\n",
       "      <td>4</td>\n",
       "      <td>Male</td>\n",
       "      <td>28</td>\n",
       "      <td>Sales Representative</td>\n",
       "      <td>5.9</td>\n",
       "      <td>4</td>\n",
       "      <td>30</td>\n",
       "      <td>8</td>\n",
       "      <td>Obese</td>\n",
       "      <td>140/90</td>\n",
       "      <td>85</td>\n",
       "      <td>3000</td>\n",
       "      <td>Sleep Apnea</td>\n",
       "    </tr>\n",
       "    <tr>\n",
       "      <th>4</th>\n",
       "      <td>5</td>\n",
       "      <td>Male</td>\n",
       "      <td>28</td>\n",
       "      <td>Sales Representative</td>\n",
       "      <td>5.9</td>\n",
       "      <td>4</td>\n",
       "      <td>30</td>\n",
       "      <td>8</td>\n",
       "      <td>Obese</td>\n",
       "      <td>140/90</td>\n",
       "      <td>85</td>\n",
       "      <td>3000</td>\n",
       "      <td>Sleep Apnea</td>\n",
       "    </tr>\n",
       "  </tbody>\n",
       "</table>\n",
       "</div>"
      ],
      "text/plain": [
       "   Person ID Gender  Age            Occupation  Sleep Duration  \\\n",
       "0          1   Male   27     Software Engineer             6.1   \n",
       "1          2   Male   28                Doctor             6.2   \n",
       "2          3   Male   28                Doctor             6.2   \n",
       "3          4   Male   28  Sales Representative             5.9   \n",
       "4          5   Male   28  Sales Representative             5.9   \n",
       "\n",
       "   Quality of Sleep  Physical Activity Level  Stress Level BMI Category  \\\n",
       "0                 6                       42             6   Overweight   \n",
       "1                 6                       60             8       Normal   \n",
       "2                 6                       60             8       Normal   \n",
       "3                 4                       30             8        Obese   \n",
       "4                 4                       30             8        Obese   \n",
       "\n",
       "  Blood Pressure  Heart Rate  Daily Steps Sleep Disorder  \n",
       "0         126/83          77         4200            NaN  \n",
       "1         125/80          75        10000            NaN  \n",
       "2         125/80          75        10000            NaN  \n",
       "3         140/90          85         3000    Sleep Apnea  \n",
       "4         140/90          85         3000    Sleep Apnea  "
      ]
     },
     "execution_count": 3,
     "metadata": {},
     "output_type": "execute_result"
    }
   ],
   "source": [
    "# read in the csv\n",
    "df = pd.read_csv('sleep_health_lifestyle.csv')\n",
    "df.head(5)"
   ]
  },
  {
   "cell_type": "code",
   "execution_count": 5,
   "id": "970b785a-a932-4ef0-b5d7-74100cc048c3",
   "metadata": {},
   "outputs": [
    {
     "data": {
      "text/plain": [
       "count    374.000000\n",
       "mean      59.171123\n",
       "std       20.830804\n",
       "min       30.000000\n",
       "25%       45.000000\n",
       "50%       60.000000\n",
       "75%       75.000000\n",
       "max       90.000000\n",
       "Name: Physical Activity Level, dtype: float64"
      ]
     },
     "execution_count": 5,
     "metadata": {},
     "output_type": "execute_result"
    }
   ],
   "source": [
    "df['Physical Activity Level'].describe()"
   ]
  },
  {
   "cell_type": "markdown",
   "id": "e7d7db2f-8193-4f86-baa6-240c0a93aceb",
   "metadata": {},
   "source": [
    "# Cleaning and Encoding Categorical Variables"
   ]
  },
  {
   "cell_type": "code",
   "execution_count": 8,
   "id": "676cab7b-201a-48ef-bd00-d1a87c9bd2e7",
   "metadata": {},
   "outputs": [
    {
     "data": {
      "text/plain": [
       "BMI Category\n",
       "Normal           195\n",
       "Overweight       148\n",
       "Normal Weight     21\n",
       "Obese             10\n",
       "Name: count, dtype: int64"
      ]
     },
     "execution_count": 8,
     "metadata": {},
     "output_type": "execute_result"
    }
   ],
   "source": [
    "df['BMI Category'].value_counts()"
   ]
  },
  {
   "cell_type": "code",
   "execution_count": 10,
   "id": "80283f83-4d25-40a8-97f5-a0b45b15f587",
   "metadata": {},
   "outputs": [
    {
     "data": {
      "text/plain": [
       "BMI Category\n",
       "Normal        216\n",
       "Overweight    148\n",
       "Obese          10\n",
       "Name: count, dtype: int64"
      ]
     },
     "execution_count": 10,
     "metadata": {},
     "output_type": "execute_result"
    }
   ],
   "source": [
    "# merge normal weight and normal into the same categories\n",
    "df['BMI Category'] = df['BMI Category'].replace('Normal Weight', 'Normal')\n",
    "\n",
    "# verify changes\n",
    "df['BMI Category'].value_counts()"
   ]
  },
  {
   "cell_type": "code",
   "execution_count": 12,
   "id": "5c5f7275-5ee8-412c-a2c9-35cd105efe42",
   "metadata": {},
   "outputs": [
    {
     "data": {
      "text/plain": [
       "Occupation\n",
       "Nurse                   73\n",
       "Doctor                  71\n",
       "Engineer                63\n",
       "Lawyer                  47\n",
       "Teacher                 40\n",
       "Accountant              37\n",
       "Salesperson             32\n",
       "Software Engineer        4\n",
       "Scientist                4\n",
       "Sales Representative     2\n",
       "Manager                  1\n",
       "Name: count, dtype: int64"
      ]
     },
     "execution_count": 12,
     "metadata": {},
     "output_type": "execute_result"
    }
   ],
   "source": [
    "df['Occupation'].value_counts()"
   ]
  },
  {
   "cell_type": "code",
   "execution_count": 14,
   "id": "bb1f3656-79a3-47de-94d1-6b5c0833d6ed",
   "metadata": {},
   "outputs": [
    {
     "data": {
      "text/html": [
       "<div>\n",
       "<style scoped>\n",
       "    .dataframe tbody tr th:only-of-type {\n",
       "        vertical-align: middle;\n",
       "    }\n",
       "\n",
       "    .dataframe tbody tr th {\n",
       "        vertical-align: top;\n",
       "    }\n",
       "\n",
       "    .dataframe thead th {\n",
       "        text-align: right;\n",
       "    }\n",
       "</style>\n",
       "<table border=\"1\" class=\"dataframe\">\n",
       "  <thead>\n",
       "    <tr style=\"text-align: right;\">\n",
       "      <th></th>\n",
       "      <th>Person ID</th>\n",
       "      <th>Gender</th>\n",
       "      <th>Age</th>\n",
       "      <th>Occupation</th>\n",
       "      <th>Sleep Duration</th>\n",
       "      <th>Quality of Sleep</th>\n",
       "      <th>Physical Activity Level</th>\n",
       "      <th>Stress Level</th>\n",
       "      <th>BMI Category</th>\n",
       "      <th>Heart Rate</th>\n",
       "      <th>Daily Steps</th>\n",
       "      <th>Sleep Disorder</th>\n",
       "      <th>Systolic BP</th>\n",
       "      <th>Diastolic BP</th>\n",
       "    </tr>\n",
       "  </thead>\n",
       "  <tbody>\n",
       "    <tr>\n",
       "      <th>0</th>\n",
       "      <td>1</td>\n",
       "      <td>Male</td>\n",
       "      <td>27</td>\n",
       "      <td>Software Engineer</td>\n",
       "      <td>6.1</td>\n",
       "      <td>6</td>\n",
       "      <td>42</td>\n",
       "      <td>6</td>\n",
       "      <td>Overweight</td>\n",
       "      <td>77</td>\n",
       "      <td>4200</td>\n",
       "      <td>NaN</td>\n",
       "      <td>126</td>\n",
       "      <td>83</td>\n",
       "    </tr>\n",
       "    <tr>\n",
       "      <th>1</th>\n",
       "      <td>2</td>\n",
       "      <td>Male</td>\n",
       "      <td>28</td>\n",
       "      <td>Doctor</td>\n",
       "      <td>6.2</td>\n",
       "      <td>6</td>\n",
       "      <td>60</td>\n",
       "      <td>8</td>\n",
       "      <td>Normal</td>\n",
       "      <td>75</td>\n",
       "      <td>10000</td>\n",
       "      <td>NaN</td>\n",
       "      <td>125</td>\n",
       "      <td>80</td>\n",
       "    </tr>\n",
       "    <tr>\n",
       "      <th>2</th>\n",
       "      <td>3</td>\n",
       "      <td>Male</td>\n",
       "      <td>28</td>\n",
       "      <td>Doctor</td>\n",
       "      <td>6.2</td>\n",
       "      <td>6</td>\n",
       "      <td>60</td>\n",
       "      <td>8</td>\n",
       "      <td>Normal</td>\n",
       "      <td>75</td>\n",
       "      <td>10000</td>\n",
       "      <td>NaN</td>\n",
       "      <td>125</td>\n",
       "      <td>80</td>\n",
       "    </tr>\n",
       "    <tr>\n",
       "      <th>3</th>\n",
       "      <td>4</td>\n",
       "      <td>Male</td>\n",
       "      <td>28</td>\n",
       "      <td>Sales Representative</td>\n",
       "      <td>5.9</td>\n",
       "      <td>4</td>\n",
       "      <td>30</td>\n",
       "      <td>8</td>\n",
       "      <td>Obese</td>\n",
       "      <td>85</td>\n",
       "      <td>3000</td>\n",
       "      <td>Sleep Apnea</td>\n",
       "      <td>140</td>\n",
       "      <td>90</td>\n",
       "    </tr>\n",
       "    <tr>\n",
       "      <th>4</th>\n",
       "      <td>5</td>\n",
       "      <td>Male</td>\n",
       "      <td>28</td>\n",
       "      <td>Sales Representative</td>\n",
       "      <td>5.9</td>\n",
       "      <td>4</td>\n",
       "      <td>30</td>\n",
       "      <td>8</td>\n",
       "      <td>Obese</td>\n",
       "      <td>85</td>\n",
       "      <td>3000</td>\n",
       "      <td>Sleep Apnea</td>\n",
       "      <td>140</td>\n",
       "      <td>90</td>\n",
       "    </tr>\n",
       "  </tbody>\n",
       "</table>\n",
       "</div>"
      ],
      "text/plain": [
       "   Person ID Gender  Age            Occupation  Sleep Duration  \\\n",
       "0          1   Male   27     Software Engineer             6.1   \n",
       "1          2   Male   28                Doctor             6.2   \n",
       "2          3   Male   28                Doctor             6.2   \n",
       "3          4   Male   28  Sales Representative             5.9   \n",
       "4          5   Male   28  Sales Representative             5.9   \n",
       "\n",
       "   Quality of Sleep  Physical Activity Level  Stress Level BMI Category  \\\n",
       "0                 6                       42             6   Overweight   \n",
       "1                 6                       60             8       Normal   \n",
       "2                 6                       60             8       Normal   \n",
       "3                 4                       30             8        Obese   \n",
       "4                 4                       30             8        Obese   \n",
       "\n",
       "   Heart Rate  Daily Steps Sleep Disorder Systolic BP Diastolic BP  \n",
       "0          77         4200            NaN         126           83  \n",
       "1          75        10000            NaN         125           80  \n",
       "2          75        10000            NaN         125           80  \n",
       "3          85         3000    Sleep Apnea         140           90  \n",
       "4          85         3000    Sleep Apnea         140           90  "
      ]
     },
     "execution_count": 14,
     "metadata": {},
     "output_type": "execute_result"
    }
   ],
   "source": [
    "df[['Systolic BP','Diastolic BP']] = df['Blood Pressure'].str.split('/', expand = True)\n",
    "df = df.drop('Blood Pressure', axis=1)\n",
    "df.head(5)"
   ]
  },
  {
   "cell_type": "code",
   "execution_count": 16,
   "id": "3cd76efa-01c1-4505-ad85-6fe0e35e6bfc",
   "metadata": {},
   "outputs": [
    {
     "data": {
      "text/html": [
       "<div>\n",
       "<style scoped>\n",
       "    .dataframe tbody tr th:only-of-type {\n",
       "        vertical-align: middle;\n",
       "    }\n",
       "\n",
       "    .dataframe tbody tr th {\n",
       "        vertical-align: top;\n",
       "    }\n",
       "\n",
       "    .dataframe thead th {\n",
       "        text-align: right;\n",
       "    }\n",
       "</style>\n",
       "<table border=\"1\" class=\"dataframe\">\n",
       "  <thead>\n",
       "    <tr style=\"text-align: right;\">\n",
       "      <th></th>\n",
       "      <th>Person ID</th>\n",
       "      <th>Gender</th>\n",
       "      <th>Age</th>\n",
       "      <th>Occupation</th>\n",
       "      <th>Sleep Duration</th>\n",
       "      <th>Quality of Sleep</th>\n",
       "      <th>Physical Activity Level</th>\n",
       "      <th>Stress Level</th>\n",
       "      <th>BMI Category</th>\n",
       "      <th>Heart Rate</th>\n",
       "      <th>Daily Steps</th>\n",
       "      <th>Sleep Disorder</th>\n",
       "      <th>Systolic BP</th>\n",
       "      <th>Diastolic BP</th>\n",
       "    </tr>\n",
       "  </thead>\n",
       "  <tbody>\n",
       "    <tr>\n",
       "      <th>0</th>\n",
       "      <td>1</td>\n",
       "      <td>Male</td>\n",
       "      <td>27</td>\n",
       "      <td>Software Engineer</td>\n",
       "      <td>6.1</td>\n",
       "      <td>6</td>\n",
       "      <td>42</td>\n",
       "      <td>6</td>\n",
       "      <td>Overweight</td>\n",
       "      <td>77</td>\n",
       "      <td>4200</td>\n",
       "      <td>NSD</td>\n",
       "      <td>126</td>\n",
       "      <td>83</td>\n",
       "    </tr>\n",
       "    <tr>\n",
       "      <th>1</th>\n",
       "      <td>2</td>\n",
       "      <td>Male</td>\n",
       "      <td>28</td>\n",
       "      <td>Doctor</td>\n",
       "      <td>6.2</td>\n",
       "      <td>6</td>\n",
       "      <td>60</td>\n",
       "      <td>8</td>\n",
       "      <td>Normal</td>\n",
       "      <td>75</td>\n",
       "      <td>10000</td>\n",
       "      <td>NSD</td>\n",
       "      <td>125</td>\n",
       "      <td>80</td>\n",
       "    </tr>\n",
       "    <tr>\n",
       "      <th>2</th>\n",
       "      <td>3</td>\n",
       "      <td>Male</td>\n",
       "      <td>28</td>\n",
       "      <td>Doctor</td>\n",
       "      <td>6.2</td>\n",
       "      <td>6</td>\n",
       "      <td>60</td>\n",
       "      <td>8</td>\n",
       "      <td>Normal</td>\n",
       "      <td>75</td>\n",
       "      <td>10000</td>\n",
       "      <td>NSD</td>\n",
       "      <td>125</td>\n",
       "      <td>80</td>\n",
       "    </tr>\n",
       "    <tr>\n",
       "      <th>3</th>\n",
       "      <td>4</td>\n",
       "      <td>Male</td>\n",
       "      <td>28</td>\n",
       "      <td>Sales Representative</td>\n",
       "      <td>5.9</td>\n",
       "      <td>4</td>\n",
       "      <td>30</td>\n",
       "      <td>8</td>\n",
       "      <td>Obese</td>\n",
       "      <td>85</td>\n",
       "      <td>3000</td>\n",
       "      <td>Sleep Apnea</td>\n",
       "      <td>140</td>\n",
       "      <td>90</td>\n",
       "    </tr>\n",
       "    <tr>\n",
       "      <th>4</th>\n",
       "      <td>5</td>\n",
       "      <td>Male</td>\n",
       "      <td>28</td>\n",
       "      <td>Sales Representative</td>\n",
       "      <td>5.9</td>\n",
       "      <td>4</td>\n",
       "      <td>30</td>\n",
       "      <td>8</td>\n",
       "      <td>Obese</td>\n",
       "      <td>85</td>\n",
       "      <td>3000</td>\n",
       "      <td>Sleep Apnea</td>\n",
       "      <td>140</td>\n",
       "      <td>90</td>\n",
       "    </tr>\n",
       "  </tbody>\n",
       "</table>\n",
       "</div>"
      ],
      "text/plain": [
       "   Person ID Gender  Age            Occupation  Sleep Duration  \\\n",
       "0          1   Male   27     Software Engineer             6.1   \n",
       "1          2   Male   28                Doctor             6.2   \n",
       "2          3   Male   28                Doctor             6.2   \n",
       "3          4   Male   28  Sales Representative             5.9   \n",
       "4          5   Male   28  Sales Representative             5.9   \n",
       "\n",
       "   Quality of Sleep  Physical Activity Level  Stress Level BMI Category  \\\n",
       "0                 6                       42             6   Overweight   \n",
       "1                 6                       60             8       Normal   \n",
       "2                 6                       60             8       Normal   \n",
       "3                 4                       30             8        Obese   \n",
       "4                 4                       30             8        Obese   \n",
       "\n",
       "   Heart Rate  Daily Steps Sleep Disorder Systolic BP Diastolic BP  \n",
       "0          77         4200            NSD         126           83  \n",
       "1          75        10000            NSD         125           80  \n",
       "2          75        10000            NSD         125           80  \n",
       "3          85         3000    Sleep Apnea         140           90  \n",
       "4          85         3000    Sleep Apnea         140           90  "
      ]
     },
     "execution_count": 16,
     "metadata": {},
     "output_type": "execute_result"
    }
   ],
   "source": [
    "df = df.fillna('NSD') # NaN = No Sleep Disorder = NSD\n",
    "df.head(5)"
   ]
  },
  {
   "cell_type": "code",
   "execution_count": 18,
   "id": "0253d087-cc6b-469c-a594-2b7e6f8a740f",
   "metadata": {},
   "outputs": [],
   "source": [
    "# make sleep disorder a categorical variable\n",
    "# NSD = 0\n",
    "# sleep apnea = 1\n",
    "# insomnia = 2"
   ]
  },
  {
   "cell_type": "code",
   "execution_count": 20,
   "id": "b53db7ca-471f-4600-9a0e-591a2f37233e",
   "metadata": {},
   "outputs": [],
   "source": [
    "# one hot encode the categorical variables\n",
    "categorical_var = ['Gender', 'Occupation', 'BMI Category']\n",
    "encoder = OneHotEncoder(sparse_output=False, handle_unknown='ignore')\n",
    "encoded_features = encoder.fit_transform(df[categorical_var])\n",
    "feature_names = encoder.get_feature_names_out(categorical_var)\n",
    "\n",
    "# create new df with encoded features\n",
    "encoded_df = pd.DataFrame(encoded_features, columns=feature_names, index=df.index)\n",
    "\n",
    "# combine encoded features with original df\n",
    "df_encoded = pd.concat([df.drop(columns=categorical_var), encoded_df], axis=1)\n",
    "\n",
    "# encode sleep disorder target variable\n",
    "sleep_disorder_mapping = {'NSD': 0, 'Sleep Apnea': 1, 'Insomnia': 2}\n",
    "df_encoded['Sleep Disorder'] = df_encoded['Sleep Disorder'].map(sleep_disorder_mapping)"
   ]
  },
  {
   "cell_type": "code",
   "execution_count": 22,
   "id": "3a14baf6-4dde-4551-87df-c6c9ac03919b",
   "metadata": {},
   "outputs": [
    {
     "data": {
      "text/html": [
       "<div>\n",
       "<style scoped>\n",
       "    .dataframe tbody tr th:only-of-type {\n",
       "        vertical-align: middle;\n",
       "    }\n",
       "\n",
       "    .dataframe tbody tr th {\n",
       "        vertical-align: top;\n",
       "    }\n",
       "\n",
       "    .dataframe thead th {\n",
       "        text-align: right;\n",
       "    }\n",
       "</style>\n",
       "<table border=\"1\" class=\"dataframe\">\n",
       "  <thead>\n",
       "    <tr style=\"text-align: right;\">\n",
       "      <th></th>\n",
       "      <th>Person ID</th>\n",
       "      <th>Age</th>\n",
       "      <th>Sleep Duration</th>\n",
       "      <th>Quality of Sleep</th>\n",
       "      <th>Physical Activity Level</th>\n",
       "      <th>Stress Level</th>\n",
       "      <th>Heart Rate</th>\n",
       "      <th>Daily Steps</th>\n",
       "      <th>Sleep Disorder</th>\n",
       "      <th>Systolic BP</th>\n",
       "      <th>...</th>\n",
       "      <th>Occupation_Manager</th>\n",
       "      <th>Occupation_Nurse</th>\n",
       "      <th>Occupation_Sales Representative</th>\n",
       "      <th>Occupation_Salesperson</th>\n",
       "      <th>Occupation_Scientist</th>\n",
       "      <th>Occupation_Software Engineer</th>\n",
       "      <th>Occupation_Teacher</th>\n",
       "      <th>BMI Category_Normal</th>\n",
       "      <th>BMI Category_Obese</th>\n",
       "      <th>BMI Category_Overweight</th>\n",
       "    </tr>\n",
       "  </thead>\n",
       "  <tbody>\n",
       "    <tr>\n",
       "      <th>0</th>\n",
       "      <td>1</td>\n",
       "      <td>27</td>\n",
       "      <td>6.1</td>\n",
       "      <td>6</td>\n",
       "      <td>42</td>\n",
       "      <td>6</td>\n",
       "      <td>77</td>\n",
       "      <td>4200</td>\n",
       "      <td>0</td>\n",
       "      <td>126</td>\n",
       "      <td>...</td>\n",
       "      <td>0.0</td>\n",
       "      <td>0.0</td>\n",
       "      <td>0.0</td>\n",
       "      <td>0.0</td>\n",
       "      <td>0.0</td>\n",
       "      <td>1.0</td>\n",
       "      <td>0.0</td>\n",
       "      <td>0.0</td>\n",
       "      <td>0.0</td>\n",
       "      <td>1.0</td>\n",
       "    </tr>\n",
       "    <tr>\n",
       "      <th>1</th>\n",
       "      <td>2</td>\n",
       "      <td>28</td>\n",
       "      <td>6.2</td>\n",
       "      <td>6</td>\n",
       "      <td>60</td>\n",
       "      <td>8</td>\n",
       "      <td>75</td>\n",
       "      <td>10000</td>\n",
       "      <td>0</td>\n",
       "      <td>125</td>\n",
       "      <td>...</td>\n",
       "      <td>0.0</td>\n",
       "      <td>0.0</td>\n",
       "      <td>0.0</td>\n",
       "      <td>0.0</td>\n",
       "      <td>0.0</td>\n",
       "      <td>0.0</td>\n",
       "      <td>0.0</td>\n",
       "      <td>1.0</td>\n",
       "      <td>0.0</td>\n",
       "      <td>0.0</td>\n",
       "    </tr>\n",
       "    <tr>\n",
       "      <th>2</th>\n",
       "      <td>3</td>\n",
       "      <td>28</td>\n",
       "      <td>6.2</td>\n",
       "      <td>6</td>\n",
       "      <td>60</td>\n",
       "      <td>8</td>\n",
       "      <td>75</td>\n",
       "      <td>10000</td>\n",
       "      <td>0</td>\n",
       "      <td>125</td>\n",
       "      <td>...</td>\n",
       "      <td>0.0</td>\n",
       "      <td>0.0</td>\n",
       "      <td>0.0</td>\n",
       "      <td>0.0</td>\n",
       "      <td>0.0</td>\n",
       "      <td>0.0</td>\n",
       "      <td>0.0</td>\n",
       "      <td>1.0</td>\n",
       "      <td>0.0</td>\n",
       "      <td>0.0</td>\n",
       "    </tr>\n",
       "    <tr>\n",
       "      <th>3</th>\n",
       "      <td>4</td>\n",
       "      <td>28</td>\n",
       "      <td>5.9</td>\n",
       "      <td>4</td>\n",
       "      <td>30</td>\n",
       "      <td>8</td>\n",
       "      <td>85</td>\n",
       "      <td>3000</td>\n",
       "      <td>1</td>\n",
       "      <td>140</td>\n",
       "      <td>...</td>\n",
       "      <td>0.0</td>\n",
       "      <td>0.0</td>\n",
       "      <td>1.0</td>\n",
       "      <td>0.0</td>\n",
       "      <td>0.0</td>\n",
       "      <td>0.0</td>\n",
       "      <td>0.0</td>\n",
       "      <td>0.0</td>\n",
       "      <td>1.0</td>\n",
       "      <td>0.0</td>\n",
       "    </tr>\n",
       "    <tr>\n",
       "      <th>4</th>\n",
       "      <td>5</td>\n",
       "      <td>28</td>\n",
       "      <td>5.9</td>\n",
       "      <td>4</td>\n",
       "      <td>30</td>\n",
       "      <td>8</td>\n",
       "      <td>85</td>\n",
       "      <td>3000</td>\n",
       "      <td>1</td>\n",
       "      <td>140</td>\n",
       "      <td>...</td>\n",
       "      <td>0.0</td>\n",
       "      <td>0.0</td>\n",
       "      <td>1.0</td>\n",
       "      <td>0.0</td>\n",
       "      <td>0.0</td>\n",
       "      <td>0.0</td>\n",
       "      <td>0.0</td>\n",
       "      <td>0.0</td>\n",
       "      <td>1.0</td>\n",
       "      <td>0.0</td>\n",
       "    </tr>\n",
       "  </tbody>\n",
       "</table>\n",
       "<p>5 rows × 27 columns</p>\n",
       "</div>"
      ],
      "text/plain": [
       "   Person ID  Age  Sleep Duration  Quality of Sleep  Physical Activity Level  \\\n",
       "0          1   27             6.1                 6                       42   \n",
       "1          2   28             6.2                 6                       60   \n",
       "2          3   28             6.2                 6                       60   \n",
       "3          4   28             5.9                 4                       30   \n",
       "4          5   28             5.9                 4                       30   \n",
       "\n",
       "   Stress Level  Heart Rate  Daily Steps  Sleep Disorder Systolic BP  ...  \\\n",
       "0             6          77         4200               0         126  ...   \n",
       "1             8          75        10000               0         125  ...   \n",
       "2             8          75        10000               0         125  ...   \n",
       "3             8          85         3000               1         140  ...   \n",
       "4             8          85         3000               1         140  ...   \n",
       "\n",
       "  Occupation_Manager  Occupation_Nurse  Occupation_Sales Representative  \\\n",
       "0                0.0               0.0                              0.0   \n",
       "1                0.0               0.0                              0.0   \n",
       "2                0.0               0.0                              0.0   \n",
       "3                0.0               0.0                              1.0   \n",
       "4                0.0               0.0                              1.0   \n",
       "\n",
       "   Occupation_Salesperson  Occupation_Scientist  Occupation_Software Engineer  \\\n",
       "0                     0.0                   0.0                           1.0   \n",
       "1                     0.0                   0.0                           0.0   \n",
       "2                     0.0                   0.0                           0.0   \n",
       "3                     0.0                   0.0                           0.0   \n",
       "4                     0.0                   0.0                           0.0   \n",
       "\n",
       "   Occupation_Teacher  BMI Category_Normal  BMI Category_Obese  \\\n",
       "0                 0.0                  0.0                 0.0   \n",
       "1                 0.0                  1.0                 0.0   \n",
       "2                 0.0                  1.0                 0.0   \n",
       "3                 0.0                  0.0                 1.0   \n",
       "4                 0.0                  0.0                 1.0   \n",
       "\n",
       "   BMI Category_Overweight  \n",
       "0                      1.0  \n",
       "1                      0.0  \n",
       "2                      0.0  \n",
       "3                      0.0  \n",
       "4                      0.0  \n",
       "\n",
       "[5 rows x 27 columns]"
      ]
     },
     "execution_count": 22,
     "metadata": {},
     "output_type": "execute_result"
    }
   ],
   "source": [
    "df_encoded.head()"
   ]
  },
  {
   "cell_type": "code",
   "execution_count": 24,
   "id": "f488b5ef-6116-4ea6-b3d2-45fa01dc1df0",
   "metadata": {},
   "outputs": [
    {
     "name": "stdout",
     "output_type": "stream",
     "text": [
      "<class 'pandas.core.frame.DataFrame'>\n",
      "RangeIndex: 374 entries, 0 to 373\n",
      "Data columns (total 27 columns):\n",
      " #   Column                           Non-Null Count  Dtype  \n",
      "---  ------                           --------------  -----  \n",
      " 0   Person ID                        374 non-null    int64  \n",
      " 1   Age                              374 non-null    int64  \n",
      " 2   Sleep Duration                   374 non-null    float64\n",
      " 3   Quality of Sleep                 374 non-null    int64  \n",
      " 4   Physical Activity Level          374 non-null    int64  \n",
      " 5   Stress Level                     374 non-null    int64  \n",
      " 6   Heart Rate                       374 non-null    int64  \n",
      " 7   Daily Steps                      374 non-null    int64  \n",
      " 8   Sleep Disorder                   374 non-null    int64  \n",
      " 9   Systolic BP                      374 non-null    object \n",
      " 10  Diastolic BP                     374 non-null    object \n",
      " 11  Gender_Female                    374 non-null    float64\n",
      " 12  Gender_Male                      374 non-null    float64\n",
      " 13  Occupation_Accountant            374 non-null    float64\n",
      " 14  Occupation_Doctor                374 non-null    float64\n",
      " 15  Occupation_Engineer              374 non-null    float64\n",
      " 16  Occupation_Lawyer                374 non-null    float64\n",
      " 17  Occupation_Manager               374 non-null    float64\n",
      " 18  Occupation_Nurse                 374 non-null    float64\n",
      " 19  Occupation_Sales Representative  374 non-null    float64\n",
      " 20  Occupation_Salesperson           374 non-null    float64\n",
      " 21  Occupation_Scientist             374 non-null    float64\n",
      " 22  Occupation_Software Engineer     374 non-null    float64\n",
      " 23  Occupation_Teacher               374 non-null    float64\n",
      " 24  BMI Category_Normal              374 non-null    float64\n",
      " 25  BMI Category_Obese               374 non-null    float64\n",
      " 26  BMI Category_Overweight          374 non-null    float64\n",
      "dtypes: float64(17), int64(8), object(2)\n",
      "memory usage: 79.0+ KB\n"
     ]
    }
   ],
   "source": [
    "df_encoded.info()"
   ]
  },
  {
   "cell_type": "code",
   "execution_count": 29,
   "id": "eb0ffbd0-97c7-4625-a672-fc5cfb8fe72f",
   "metadata": {},
   "outputs": [
    {
     "data": {
      "text/plain": [
       "Person ID                          0\n",
       "Age                                0\n",
       "Sleep Duration                     0\n",
       "Quality of Sleep                   0\n",
       "Physical Activity Level            0\n",
       "Stress Level                       0\n",
       "Heart Rate                         0\n",
       "Daily Steps                        0\n",
       "Sleep Disorder                     0\n",
       "Systolic BP                        0\n",
       "Diastolic BP                       0\n",
       "Gender_Female                      0\n",
       "Gender_Male                        0\n",
       "Occupation_Accountant              0\n",
       "Occupation_Doctor                  0\n",
       "Occupation_Engineer                0\n",
       "Occupation_Lawyer                  0\n",
       "Occupation_Manager                 0\n",
       "Occupation_Nurse                   0\n",
       "Occupation_Sales Representative    0\n",
       "Occupation_Salesperson             0\n",
       "Occupation_Scientist               0\n",
       "Occupation_Software Engineer       0\n",
       "Occupation_Teacher                 0\n",
       "BMI Category_Normal                0\n",
       "BMI Category_Obese                 0\n",
       "BMI Category_Overweight            0\n",
       "dtype: int64"
      ]
     },
     "execution_count": 29,
     "metadata": {},
     "output_type": "execute_result"
    }
   ],
   "source": [
    "# verify that no NaN values exist\n",
    "df_encoded.isna().sum()"
   ]
  },
  {
   "cell_type": "code",
   "execution_count": 31,
   "id": "f08bb387-1444-4fc9-b3f5-ff359c9dcb12",
   "metadata": {},
   "outputs": [],
   "source": [
    "# fix data types\n",
    "columns = ['Age', 'Sleep Duration', 'Quality of Sleep', 'Physical Activity Level', \n",
    "           'Stress Level', 'Heart Rate', 'Daily Steps', 'Systolic BP', 'Diastolic BP']\n",
    "\n",
    "for col in columns:\n",
    "    try:\n",
    "        df_encoded[col] = pd.to_numeric(df[col], errors='coerce')\n",
    "    except ValueError:\n",
    "        print(f\"Column '{col}' cannot be converted to float.\")"
   ]
  },
  {
   "cell_type": "code",
   "execution_count": 33,
   "id": "01897867-ae8f-4c55-9b01-0773736d4d05",
   "metadata": {},
   "outputs": [
    {
     "name": "stdout",
     "output_type": "stream",
     "text": [
      "<class 'pandas.core.frame.DataFrame'>\n",
      "RangeIndex: 374 entries, 0 to 373\n",
      "Data columns (total 27 columns):\n",
      " #   Column                           Non-Null Count  Dtype  \n",
      "---  ------                           --------------  -----  \n",
      " 0   Person ID                        374 non-null    int64  \n",
      " 1   Age                              374 non-null    int64  \n",
      " 2   Sleep Duration                   374 non-null    float64\n",
      " 3   Quality of Sleep                 374 non-null    int64  \n",
      " 4   Physical Activity Level          374 non-null    int64  \n",
      " 5   Stress Level                     374 non-null    int64  \n",
      " 6   Heart Rate                       374 non-null    int64  \n",
      " 7   Daily Steps                      374 non-null    int64  \n",
      " 8   Sleep Disorder                   374 non-null    int64  \n",
      " 9   Systolic BP                      374 non-null    int64  \n",
      " 10  Diastolic BP                     374 non-null    int64  \n",
      " 11  Gender_Female                    374 non-null    float64\n",
      " 12  Gender_Male                      374 non-null    float64\n",
      " 13  Occupation_Accountant            374 non-null    float64\n",
      " 14  Occupation_Doctor                374 non-null    float64\n",
      " 15  Occupation_Engineer              374 non-null    float64\n",
      " 16  Occupation_Lawyer                374 non-null    float64\n",
      " 17  Occupation_Manager               374 non-null    float64\n",
      " 18  Occupation_Nurse                 374 non-null    float64\n",
      " 19  Occupation_Sales Representative  374 non-null    float64\n",
      " 20  Occupation_Salesperson           374 non-null    float64\n",
      " 21  Occupation_Scientist             374 non-null    float64\n",
      " 22  Occupation_Software Engineer     374 non-null    float64\n",
      " 23  Occupation_Teacher               374 non-null    float64\n",
      " 24  BMI Category_Normal              374 non-null    float64\n",
      " 25  BMI Category_Obese               374 non-null    float64\n",
      " 26  BMI Category_Overweight          374 non-null    float64\n",
      "dtypes: float64(17), int64(10)\n",
      "memory usage: 79.0 KB\n"
     ]
    }
   ],
   "source": [
    "df_encoded.info()"
   ]
  },
  {
   "cell_type": "code",
   "execution_count": 53,
   "id": "79d05fab-1ac5-4471-9f54-35f1bb60f9e8",
   "metadata": {},
   "outputs": [],
   "source": [
    "# save encoded df\n",
    "df_encoded.to_csv('encoded_sleep_health.csv', index=False)"
   ]
  },
  {
   "cell_type": "markdown",
   "id": "25d2d438-f102-4837-bc60-539f42943fea",
   "metadata": {},
   "source": [
    "# Explore Variables"
   ]
  },
  {
   "cell_type": "code",
   "execution_count": 37,
   "id": "20e0327c-1314-415b-a9a8-1f8d634733ed",
   "metadata": {},
   "outputs": [
    {
     "data": {
      "text/plain": [
       "count    374.000000\n",
       "mean       7.132086\n",
       "std        0.795657\n",
       "min        5.800000\n",
       "25%        6.400000\n",
       "50%        7.200000\n",
       "75%        7.800000\n",
       "max        8.500000\n",
       "Name: Sleep Duration, dtype: float64"
      ]
     },
     "execution_count": 37,
     "metadata": {},
     "output_type": "execute_result"
    },
    {
     "data": {
      "image/png": "[encoded data removed]",
      "text/plain": [
       "<Figure size 640x480 with 1 Axes>"
      ]
     },
     "metadata": {},
     "output_type": "display_data"
    }
   ],
   "source": [
    "df_encoded['Sleep Duration'].hist()\n",
    "df_encoded['Sleep Duration'].describe()"
   ]
  },
  {
   "cell_type": "code",
   "execution_count": 39,
   "id": "5c850eb4-345a-4ae7-abf4-576462ab4c9b",
   "metadata": {},
   "outputs": [
    {
     "data": {
      "text/plain": [
       "count    374.000000\n",
       "mean       7.312834\n",
       "std        1.196956\n",
       "min        4.000000\n",
       "25%        6.000000\n",
       "50%        7.000000\n",
       "75%        8.000000\n",
       "max        9.000000\n",
       "Name: Quality of Sleep, dtype: float64"
      ]
     },
     "execution_count": 39,
     "metadata": {},
     "output_type": "execute_result"
    },
    {
     "data": {
      "image/png": "[encoded data removed]",
      "text/plain": [
       "<Figure size 640x480 with 1 Axes>"
      ]
     },
     "metadata": {},
     "output_type": "display_data"
    }
   ],
   "source": [
    "df_encoded['Quality of Sleep'].hist()\n",
    "df_encoded['Quality of Sleep'].describe()"
   ]
  },
  {
   "cell_type": "code",
   "execution_count": 41,
   "id": "be8899f2-b711-4d0f-82c4-ffa83996451a",
   "metadata": {},
   "outputs": [
    {
     "data": {
      "text/plain": [
       "count    374.000000\n",
       "mean      59.171123\n",
       "std       20.830804\n",
       "min       30.000000\n",
       "25%       45.000000\n",
       "50%       60.000000\n",
       "75%       75.000000\n",
       "max       90.000000\n",
       "Name: Physical Activity Level, dtype: float64"
      ]
     },
     "execution_count": 41,
     "metadata": {},
     "output_type": "execute_result"
    },
    {
     "data": {
      "image/png": "[encoded data removed]",
      "text/plain": [
       "<Figure size 640x480 with 1 Axes>"
      ]
     },
     "metadata": {},
     "output_type": "display_data"
    }
   ],
   "source": [
    "df_encoded['Physical Activity Level'].hist()\n",
    "df_encoded['Physical Activity Level'].describe()"
   ]
  },
  {
   "cell_type": "code",
   "execution_count": 43,
   "id": "1fadb7bf-67b2-41af-a3cc-6f3eaad4f0d7",
   "metadata": {},
   "outputs": [
    {
     "data": {
      "text/plain": [
       "count    374.000000\n",
       "mean       5.385027\n",
       "std        1.774526\n",
       "min        3.000000\n",
       "25%        4.000000\n",
       "50%        5.000000\n",
       "75%        7.000000\n",
       "max        8.000000\n",
       "Name: Stress Level, dtype: float64"
      ]
     },
     "execution_count": 43,
     "metadata": {},
     "output_type": "execute_result"
    },
    {
     "data": {
      "image/png": "[encoded data removed]",
      "text/plain": [
       "<Figure size 640x480 with 1 Axes>"
      ]
     },
     "metadata": {},
     "output_type": "display_data"
    }
   ],
   "source": [
    "df_encoded['Stress Level'].hist()\n",
    "df_encoded['Stress Level'].describe()"
   ]
  },
  {
   "cell_type": "code",
   "execution_count": 45,
   "id": "a5a6c412-2817-488d-99ee-0c71b36a537a",
   "metadata": {},
   "outputs": [
    {
     "data": {
      "text/plain": [
       "(count     374\n",
       " unique     18\n",
       " top       130\n",
       " freq      101\n",
       " Name: Systolic BP, dtype: object,\n",
       " count     374\n",
       " unique     17\n",
       " top        80\n",
       " freq      111\n",
       " Name: Diastolic BP, dtype: object)"
      ]
     },
     "execution_count": 45,
     "metadata": {},
     "output_type": "execute_result"
    }
   ],
   "source": [
    "df['Systolic BP'].describe(), df['Diastolic BP'].describe()"
   ]
  },
  {
   "cell_type": "code",
   "execution_count": 47,
   "id": "5ef88852-b0dc-4d3b-8aa9-ae0b6edded4f",
   "metadata": {},
   "outputs": [
    {
     "data": {
      "image/png": "[encoded data removed]",
      "text/plain": [
       "<Figure size 1200x600 with 1 Axes>"
      ]
     },
     "metadata": {},
     "output_type": "display_data"
    }
   ],
   "source": [
    "import matplotlib.pyplot as plt\n",
    "\n",
    "# Create the figure and axes\n",
    "fig, ax = plt.subplots(figsize=(12, 6))\n",
    "\n",
    "# Plot the first histogram\n",
    "ax.hist(df_encoded['Systolic BP'], bins=8, alpha=0.5, label='Systolic')\n",
    "\n",
    "# Plot the second histogram\n",
    "ax.hist(df_encoded['Diastolic BP'], bins=8, alpha=0.5, label='Dyastolic')\n",
    "\n",
    "# Add a legend\n",
    "plt.legend()\n",
    "\n",
    "# Show the plot\n",
    "plt.show()"
   ]
  },
  {
   "cell_type": "code",
   "execution_count": 49,
   "id": "e971a5aa-5cb3-41df-acc9-2e244e4a249b",
   "metadata": {},
   "outputs": [
    {
     "data": {
      "text/plain": [
       "count    374.000000\n",
       "mean      70.165775\n",
       "std        4.135676\n",
       "min       65.000000\n",
       "25%       68.000000\n",
       "50%       70.000000\n",
       "75%       72.000000\n",
       "max       86.000000\n",
       "Name: Heart Rate, dtype: float64"
      ]
     },
     "execution_count": 49,
     "metadata": {},
     "output_type": "execute_result"
    },
    {
     "data": {
      "image/png": "[encoded data removed]",
      "text/plain": [
       "<Figure size 640x480 with 1 Axes>"
      ]
     },
     "metadata": {},
     "output_type": "display_data"
    }
   ],
   "source": [
    "df_encoded['Heart Rate'].hist()\n",
    "df_encoded['Heart Rate'].describe()"
   ]
  },
  {
   "cell_type": "code",
   "execution_count": 51,
   "id": "ed34c73a-f3a9-4cc8-a537-25c5bd680801",
   "metadata": {},
   "outputs": [
    {
     "data": {
      "text/plain": [
       "count      374.000000\n",
       "mean      6816.844920\n",
       "std       1617.915679\n",
       "min       3000.000000\n",
       "25%       5600.000000\n",
       "50%       7000.000000\n",
       "75%       8000.000000\n",
       "max      10000.000000\n",
       "Name: Daily Steps, dtype: float64"
      ]
     },
     "execution_count": 51,
     "metadata": {},
     "output_type": "execute_result"
    },
    {
     "data": {
      "image/png": "[encoded data removed]",
      "text/plain": [
       "<Figure size 640x480 with 1 Axes>"
      ]
     },
     "metadata": {},
     "output_type": "display_data"
    }
   ],
   "source": [
    "df_encoded['Daily Steps'].hist()\n",
    "df_encoded['Daily Steps'].describe()"
   ]
  },
  {
   "cell_type": "code",
   "execution_count": null,
   "id": "27fd03bd-7f8c-4e3f-a2ed-1fd034adf9af",
   "metadata": {},
   "outputs": [],
   "source": []
  }
 ],
 "metadata": {
  "kernelspec": {
   "display_name": "Python 3 (ipykernel)",
   "language": "python",
   "name": "python3"
  },
  "language_info": {
   "codemirror_mode": {
    "name": "ipython",
    "version": 3
   },
   "file_extension": ".py",
   "mimetype": "text/x-python",
   "name": "python",
   "nbconvert_exporter": "python",
   "pygments_lexer": "ipython3",
   "version": "3.12.4"
  }
 },
 "nbformat": 4,
 "nbformat_minor": 5
}
