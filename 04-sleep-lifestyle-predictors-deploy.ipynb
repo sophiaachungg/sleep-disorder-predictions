{
 "cells": [
  {
   "cell_type": "markdown",
   "id": "fd809bed-10bd-4891-a414-3aa400dcfc0d",
   "metadata": {},
   "source": [
    "# Test Cases"
   ]
  },
  {
   "cell_type": "markdown",
   "id": "f3a91084-d8dd-4637-82d7-f5508ba44964",
   "metadata": {},
   "source": [
    "Verify scaler and model work before writing Streamlit app"
   ]
  },
  {
   "cell_type": "code",
   "execution_count": 1,
   "id": "fa1ae95f-7674-4bda-b0ad-b1789209cdd7",
   "metadata": {},
   "outputs": [],
   "source": [
    "import pandas as pd\n",
    "import joblib"
   ]
  },
  {
   "cell_type": "code",
   "execution_count": 3,
   "id": "3a7c2083-cf52-4838-8b89-f13b15540cf6",
   "metadata": {},
   "outputs": [
    {
     "data": {
      "text/html": [
       "<div>\n",
       "<style scoped>\n",
       "    .dataframe tbody tr th:only-of-type {\n",
       "        vertical-align: middle;\n",
       "    }\n",
       "\n",
       "    .dataframe tbody tr th {\n",
       "        vertical-align: top;\n",
       "    }\n",
       "\n",
       "    .dataframe thead th {\n",
       "        text-align: right;\n",
       "    }\n",
       "</style>\n",
       "<table border=\"1\" class=\"dataframe\">\n",
       "  <thead>\n",
       "    <tr style=\"text-align: right;\">\n",
       "      <th></th>\n",
       "      <th>Mean Arterial Pressure</th>\n",
       "      <th>BMI Category_Normal</th>\n",
       "      <th>Sleep Duration</th>\n",
       "      <th>BMI Category_Overweight</th>\n",
       "      <th>Age</th>\n",
       "      <th>Physical Activity Level</th>\n",
       "      <th>Occupation_Nurse</th>\n",
       "    </tr>\n",
       "  </thead>\n",
       "  <tbody>\n",
       "    <tr>\n",
       "      <th>0</th>\n",
       "      <td>97.3</td>\n",
       "      <td>0.0</td>\n",
       "      <td>6.1</td>\n",
       "      <td>1.0</td>\n",
       "      <td>27.0</td>\n",
       "      <td>42.0</td>\n",
       "      <td>0.0</td>\n",
       "    </tr>\n",
       "  </tbody>\n",
       "</table>\n",
       "</div>"
      ],
      "text/plain": [
       "   Mean Arterial Pressure  BMI Category_Normal  Sleep Duration  \\\n",
       "0                    97.3                  0.0             6.1   \n",
       "\n",
       "   BMI Category_Overweight   Age  Physical Activity Level  Occupation_Nurse  \n",
       "0                      1.0  27.0                     42.0               0.0  "
      ]
     },
     "execution_count": 3,
     "metadata": {},
     "output_type": "execute_result"
    }
   ],
   "source": [
    "# test that scaler works\n",
    "# create a dataframe from user input\n",
    "data = {'Mean Arterial Pressure': 97.3,\n",
    "    'BMI Category_Normal': 0.0, \n",
    "    'Sleep Duration': 6.1,\n",
    "    'BMI Category_Overweight': 1.0,\n",
    "    'Age': 27.0,\n",
    "    'Physical Activity Level': 42.0,\n",
    "    'Occupation_Nurse': 0.0}\n",
    "\n",
    "user_data = pd.DataFrame(data, index=[0])\n",
    "user_data = user_data.astype(float)\n",
    "user_data"
   ]
  },
  {
   "cell_type": "code",
   "execution_count": 5,
   "id": "a91287d9-fc64-4eb7-873b-f1d21213f7d9",
   "metadata": {},
   "outputs": [
    {
     "data": {
      "text/plain": [
       "array([[-0.29891362, -1.29888693, -1.75309569, -0.82541823]])"
      ]
     },
     "execution_count": 5,
     "metadata": {},
     "output_type": "execute_result"
    }
   ],
   "source": [
    "# load scaler\n",
    "scaler = joblib.load('scaler.joblib')\n",
    "\n",
    "continuous_col = ['Mean Arterial Pressure', 'Sleep Duration', 'Age', 'Physical Activity Level']\n",
    "\n",
    "# standardize user_data\n",
    "user_data_std = scaler.transform(user_data[continuous_col])\n",
    "user_data_std"
   ]
  },
  {
   "cell_type": "code",
   "execution_count": 7,
   "id": "9ca8c77a-c9b6-4f95-8a0f-d4281492d470",
   "metadata": {},
   "outputs": [
    {
     "data": {
      "text/html": [
       "<div>\n",
       "<style scoped>\n",
       "    .dataframe tbody tr th:only-of-type {\n",
       "        vertical-align: middle;\n",
       "    }\n",
       "\n",
       "    .dataframe tbody tr th {\n",
       "        vertical-align: top;\n",
       "    }\n",
       "\n",
       "    .dataframe thead th {\n",
       "        text-align: right;\n",
       "    }\n",
       "</style>\n",
       "<table border=\"1\" class=\"dataframe\">\n",
       "  <thead>\n",
       "    <tr style=\"text-align: right;\">\n",
       "      <th></th>\n",
       "      <th>BMI Category_Normal</th>\n",
       "      <th>BMI Category_Overweight</th>\n",
       "      <th>Occupation_Nurse</th>\n",
       "      <th>Mean Arterial Pressure</th>\n",
       "      <th>Sleep Duration</th>\n",
       "      <th>Age</th>\n",
       "      <th>Physical Activity Level</th>\n",
       "    </tr>\n",
       "  </thead>\n",
       "  <tbody>\n",
       "    <tr>\n",
       "      <th>0</th>\n",
       "      <td>0.0</td>\n",
       "      <td>1.0</td>\n",
       "      <td>0.0</td>\n",
       "      <td>-0.298914</td>\n",
       "      <td>-1.298887</td>\n",
       "      <td>-1.753096</td>\n",
       "      <td>-0.825418</td>\n",
       "    </tr>\n",
       "  </tbody>\n",
       "</table>\n",
       "</div>"
      ],
      "text/plain": [
       "   BMI Category_Normal  BMI Category_Overweight  Occupation_Nurse  \\\n",
       "0                  0.0                      1.0               0.0   \n",
       "\n",
       "   Mean Arterial Pressure  Sleep Duration       Age  Physical Activity Level  \n",
       "0               -0.298914       -1.298887 -1.753096                -0.825418  "
      ]
     },
     "execution_count": 7,
     "metadata": {},
     "output_type": "execute_result"
    }
   ],
   "source": [
    "binary_col = ['BMI Category_Normal', 'BMI Category_Overweight', 'Occupation_Nurse']\n",
    "\n",
    "df = pd.DataFrame(user_data_std, columns=continuous_col)\n",
    "df = pd.concat([user_data[binary_col], df], axis=1)\n",
    "\n",
    "df"
   ]
  },
  {
   "cell_type": "code",
   "execution_count": 9,
   "id": "479538b6-ec70-44f6-8e73-447d7c6a89bc",
   "metadata": {},
   "outputs": [
    {
     "data": {
      "text/plain": [
       "array([0])"
      ]
     },
     "execution_count": 9,
     "metadata": {},
     "output_type": "execute_result"
    }
   ],
   "source": [
    "model = joblib.load('sleep_disorder_model.joblib')\n",
    "\n",
    "model.predict(df)"
   ]
  },
  {
   "cell_type": "code",
   "execution_count": 11,
   "id": "57a8324e-a3ae-4e17-a588-fe43538b8d1c",
   "metadata": {},
   "outputs": [],
   "source": [
    "# sleep apnea test case\n",
    "data = {'Mean Arterial Pressure': 106.6,\n",
    "    'BMI Category_Normal': 0.0, \n",
    "    'Sleep Duration': 5.9,\n",
    "    'BMI Category_Overweight': 1.0,\n",
    "    'Age': 28.0,\n",
    "    'Physical Activity Level': 30.0,\n",
    "    'Occupation_Nurse': 0.0}\n",
    "\n",
    "user_data = pd.DataFrame(data, index=[0])\n",
    "user_data = user_data.astype(float)"
   ]
  },
  {
   "cell_type": "code",
   "execution_count": 13,
   "id": "829c89bd-510a-4810-852d-d4a8e483ebde",
   "metadata": {},
   "outputs": [
    {
     "data": {
      "text/plain": [
       "array([1])"
      ]
     },
     "execution_count": 13,
     "metadata": {},
     "output_type": "execute_result"
    }
   ],
   "source": [
    "# standardize user_data\n",
    "user_data_std = scaler.transform(user_data[continuous_col])\n",
    "\n",
    "df = pd.DataFrame(user_data_std, columns=continuous_col)\n",
    "df = pd.concat([user_data[binary_col], df], axis=1)\n",
    "\n",
    "model.predict(df)"
   ]
  },
  {
   "cell_type": "markdown",
   "id": "245213ac-6169-495b-807d-14af1a186d55",
   "metadata": {},
   "source": [
    "# Write app.py"
   ]
  },
  {
   "cell_type": "code",
   "execution_count": 16,
   "id": "ca0876b8-2acd-4947-9637-777f0701f2a2",
   "metadata": {},
   "outputs": [
    {
     "name": "stdout",
     "output_type": "stream",
     "text": [
      "Overwriting sleep_predict_app.py\n"
     ]
    }
   ],
   "source": [
    "%%writefile sleep_predict_app.py\n",
    "import joblib\n",
    "import streamlit as st\n",
    "import pandas as pd\n",
    "import numpy as np\n",
    "from sklearn.preprocessing import StandardScaler\n",
    "\n",
    "# load the model\n",
    "model = joblib.load('sleep_disorder_model.joblib')\n",
    "\n",
    "# BMI calculation function\n",
    "def calculate_bmi(weight, height, unit):\n",
    "    if unit == 'metric':\n",
    "        bmi = weight / ((height / 100) ** 2)\n",
    "    else:\n",
    "        bmi = (weight / (height ** 2)) * 703\n",
    "    return round(bmi, 2)\n",
    "\n",
    "def calculate_map(systolic_bp, diastolic_bp):\n",
    "    map = 1/3 * systolic_bp + 2/3 * diastolic_bp\n",
    "    return map\n",
    "\n",
    "# create Streamlit interface\n",
    "st.title('Sleep Disorder Prediction')\n",
    "\n",
    "# add input fields for user data\n",
    "# BMI-specific code\n",
    "unit = st.radio('Select unit system:', ('Metric', 'Imperial'))\n",
    "if unit == 'Metric':\n",
    "    weight = st.number_input('Enter weight (kg):', min_value=30, max_value=300, value=70)\n",
    "    height = st.number_input('Enter height (cm):', min_value=100, max_value=250, value=170)\n",
    "    unit_system = 'metric'\n",
    "else:\n",
    "    weight = st.number_input('Enter weight (lb):', min_value=65, max_value=500, value=150)\n",
    "    height = st.number_input('Enter height (in):', min_value=40, max_value=110, value=65)\n",
    "    unit_system = 'imperial'\n",
    "bmi = calculate_bmi(weight, height, unit)\n",
    "age = st.number_input('Age', min_value=18, max_value=100, value=30)\n",
    "sleep_duration = st.number_input('Average Sleep Duration', min_value=1, max_value=14, value=7)\n",
    "physical_activity = st.slider('How would you rate your physical activity level?', 1, 5, 3)\n",
    "# use formula to compute physical_activity: 30 + (old_value - 1) * (90 - 30) / (5 - 1)\n",
    "physical_activity = 30 + (physical_activity-1) * 60 / 4\n",
    "systolic_bp = st.number_input('Systolic Blood Pressure', min_value=90, max_value=200, value=120)\n",
    "diastolic_bp = st.number_input('Diastolic Blood Pressure', min_value=60, max_value=120, value=80)\n",
    "map = calculate_map(systolic_bp, diastolic_bp)\n",
    "\n",
    "# assign BMI category\n",
    "if bmi < 25:\n",
    "    bmi_category = 'Normal'\n",
    "    bmi_norm = 1\n",
    "    bmi_over = 0\n",
    "else:\n",
    "    bmi_category = 'Overweight'\n",
    "    bmi_norm = 0\n",
    "    bmi_over = 1\n",
    "\n",
    "# create a dataframe from user input\n",
    "user_data = pd.DataFrame({\n",
    "    'BMI Category_Normal': [bmi_norm],\n",
    "    'BMI Category_Overweight': [bmi_over],\n",
    "    'Occupation_Nurse': 0,\n",
    "    'Mean Arterial Pressure': [map],\n",
    "    'Sleep Duration': [sleep_duration],\n",
    "    'Age': [age],\n",
    "    'Physical Activity Level': [physical_activity],\n",
    "})\n",
    "\n",
    "# load scaler\n",
    "scaler = joblib.load('scaler.joblib')\n",
    "\n",
    "# standardize user_data\n",
    "continuous_col = ['Mean Arterial Pressure', 'Sleep Duration', 'Age', 'Physical Activity Level']\n",
    "binary_col = ['BMI Category_Normal', 'BMI Category_Overweight', 'Occupation_Nurse']\n",
    "user_data_std = scaler.transform(user_data[continuous_col])\n",
    "df = pd.DataFrame(user_data_std, columns=continuous_col)\n",
    "df = pd.concat([user_data[binary_col], df], axis=1)\n",
    "\n",
    "# make predictions\n",
    "if st.button('Predict'):\n",
    "    prediction = model.predict(df)\n",
    "    messages = ['You likely have no sleep disorders. Keep up the healthy habits.',\n",
    "                'Based on your health and lifestyle, you likely have sleep apnea. See a doctor for a proper diagnosis.', \n",
    "                'Based on your health and lifestyle, you likely have insomnia. See a doctor for a proper diagnosis.']\n",
    "    output = messages[prediction[0]]\n",
    "    st.write(f'{output}')\n",
    "    \n",
    "    # display top 2 features that are contributing to potential sleep disorder\n",
    "    if prediction[0] != 0:\n",
    "        # Get feature importances\n",
    "        feature_importances = model.feature_importances_\n",
    "        feature_names = user_data.columns\n",
    "        \n",
    "        # Create a dataframe of feature importances\n",
    "        importance_df = pd.DataFrame({'feature': feature_names, 'importance': feature_importances})\n",
    "        \n",
    "        # Sort by importance\n",
    "        importance_df = importance_df.sort_values('importance', ascending=False)\n",
    "        \n",
    "        # Filter out 'BMI Category_Normal' and 'Occupation_Nurse'\n",
    "        filtered_importance = importance_df[~importance_df['feature'].isin(['BMI Category_Normal', 'Occupation_Nurse'])]\n",
    "        \n",
    "        # Get top 2 features\n",
    "        top_features = filtered_importance.head(2)\n",
    "        \n",
    "        st.subheader(\"Top 2 Contributing Factors:\")\n",
    "        for index, row in top_features.iterrows():\n",
    "            st.write(f\"{row['feature']}\")\n",
    "        \n",
    "        st.write(\"Consider addressing these factors to improve your sleep health.\")\n",
    "    \n",
    "        # Add interpretations for each feature\n",
    "        feature_interpretations = {\n",
    "            'Age': \"Age can impact sleep patterns and disorder risk.\",\n",
    "            'Sleep Duration': \"Both too little and too much sleep can be indicators of sleep issues.\",\n",
    "            'Physical Activity Level': \"Regular physical activity can improve sleep quality.\",\n",
    "            'Mean Arterial Pressure': \"Blood pressure can be both a cause and effect of sleep disorders.\",\n",
    "            'BMI Category_Overweight': \"Being overweight can increase the risk of certain sleep disorders.\"\n",
    "        }\n",
    "    \n",
    "        for feature in top_features['feature']:\n",
    "            if feature in feature_interpretations:\n",
    "                st.write(feature_interpretations[feature])\n",
    "        st.write('DISCLAIMER: This is not an official medical diagnosis. Please see your doctor if you have any concerns.')"
   ]
  },
  {
   "cell_type": "code",
   "execution_count": 18,
   "id": "d2e6e5a7-e605-4ae7-b058-1507f53c6cdf",
   "metadata": {},
   "outputs": [
    {
     "name": "stdout",
     "output_type": "stream",
     "text": [
      "\u001b[0m\n",
      "\u001b[34m\u001b[1m  You can now view your Streamlit app in your browser.\u001b[0m\n",
      "\u001b[0m\n",
      "\u001b[34m  Local URL: \u001b[0m\u001b[1mhttp://localhost:8501\u001b[0m\n",
      "\u001b[34m  Network URL: \u001b[0m\u001b[1mhttp://10.0.0.120:8501\u001b[0m\n",
      "\u001b[0m\n",
      "^C\n",
      "\u001b[34m  Stopping...\u001b[0m\n"
     ]
    }
   ],
   "source": [
    "!streamlit run sleep_predict_app.py"
   ]
  },
  {
   "cell_type": "code",
   "execution_count": null,
   "id": "127d6589-108b-4fae-bb1f-25c3f065440c",
   "metadata": {},
   "outputs": [],
   "source": []
  }
 ],
 "metadata": {
  "kernelspec": {
   "display_name": "Python 3 (ipykernel)",
   "language": "python",
   "name": "python3"
  },
  "language_info": {
   "codemirror_mode": {
    "name": "ipython",
    "version": 3
   },
   "file_extension": ".py",
   "mimetype": "text/x-python",
   "name": "python",
   "nbconvert_exporter": "python",
   "pygments_lexer": "ipython3",
   "version": "3.12.4"
  }
 },
 "nbformat": 4,
 "nbformat_minor": 5
}
